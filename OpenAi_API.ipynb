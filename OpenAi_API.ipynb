{
  "nbformat": 4,
  "nbformat_minor": 0,
  "metadata": {
    "colab": {
      "provenance": [],
      "toc_visible": true
    },
    "kernelspec": {
      "name": "python3",
      "display_name": "Python 3"
    },
    "language_info": {
      "name": "python"
    }
  },
  "cells": [
    {
      "cell_type": "code",
      "execution_count": 13,
      "metadata": {
        "id": "ik5krUwK8HBj"
      },
      "outputs": [],
      "source": [
        "!pip install -q openai"
      ]
    },
    {
      "cell_type": "code",
      "source": [
        "import openai\n",
        "openai.api_key = \"sk-\""
      ],
      "metadata": {
        "id": "HHb9zRwvcnZ0"
      },
      "execution_count": 14,
      "outputs": []
    },
    {
      "cell_type": "code",
      "source": [
        "messages = [\n",
        "    {\"role\": \"system\", \"content\": \"You are a kind helpful assistant.\"},\n",
        "]"
      ],
      "metadata": {
        "id": "ixaGKBFLdiei"
      },
      "execution_count": 15,
      "outputs": []
    },
    {
      "cell_type": "code",
      "source": [
        "while True:\n",
        "    message = input(\"User : \")\n",
        "    if message:\n",
        "        messages.append(\n",
        "            {\"role\": \"user\", \"content\": message},\n",
        "        )\n",
        "        chat = openai.ChatCompletion.create(\n",
        "            model=\"gpt-3.5-turbo\", messages=messages\n",
        "        )\n",
        "\n",
        "    reply = chat.choices[0].message.content\n",
        "    print(f\"ChatGPT: {reply}\")\n",
        "    messages.append({\"role\": \"assistant\", \"content\": reply})"
      ],
      "metadata": {
        "id": "kSkijcr8eLaD"
      },
      "execution_count": null,
      "outputs": []
    },
    {
      "cell_type": "code",
      "source": [
        "import requests\n",
        "\n",
        "URL = \"https://api.openai.com/v1/chat/completions\"\n",
        "\n",
        "payload = {\n",
        "\"model\": \"gpt-3.5-turbo\",\n",
        "\"messages\": [{\"role\": \"user\", \"content\": f\"What is the first computer in the world?\"}],\n",
        "\"temperature\" : 1.0,\n",
        "\"top_p\":1.0,\n",
        "\"n\" : 1,\n",
        "\"stream\": False,\n",
        "\"presence_penalty\":0,\n",
        "\"frequency_penalty\":0,\n",
        "}\n",
        "\n",
        "headers = {\n",
        "\"Content-Type\": \"application/json\",\n",
        "\"Authorization\": f\"Bearer {openai.api_key}\"\n",
        "}\n",
        "\n",
        "response = requests.post(URL, headers=headers, json=payload, stream=False)"
      ],
      "metadata": {
        "id": "MkftwuLWe9wj"
      },
      "execution_count": 17,
      "outputs": []
    },
    {
      "cell_type": "code",
      "source": [
        "\n",
        "response.content"
      ],
      "metadata": {
        "id": "_Ws9xfQcf3ZZ"
      },
      "execution_count": null,
      "outputs": []
    },
    {
      "cell_type": "code",
      "source": [],
      "metadata": {
        "id": "5u3NJEeaf54e"
      },
      "execution_count": null,
      "outputs": []
    }
  ]
}